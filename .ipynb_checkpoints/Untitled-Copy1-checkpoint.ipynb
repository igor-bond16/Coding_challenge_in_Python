{
 "cells": [
  {
   "cell_type": "code",
   "execution_count": 2,
   "metadata": {},
   "outputs": [],
   "source": [
    "import tweepy\n",
    "import webbrowser"
   ]
  },
  {
   "cell_type": "code",
   "execution_count": 1,
   "metadata": {},
   "outputs": [],
   "source": [
    "api_key = 'lmPlSIx2EOx6iCDtuhBTtoHf1'\n",
    "secret_key = 'BkRcRGaBJ8iQvc9jDhXak3m8HjoMHzFDLFboSHDc3Qn1Begdph'"
   ]
  },
  {
   "cell_type": "code",
   "execution_count": 4,
   "metadata": {},
   "outputs": [],
   "source": [
    "callback_url = 'oob'"
   ]
  },
  {
   "cell_type": "code",
   "execution_count": 6,
   "metadata": {},
   "outputs": [
    {
     "data": {
      "text/plain": [
       "True"
      ]
     },
     "execution_count": 6,
     "metadata": {},
     "output_type": "execute_result"
    }
   ],
   "source": [
    "awth = tweepy.OAuthHandler(api_key,secret_key,callback_url)\n",
    "redirect_url = awth.get_authorization_url()\n",
    "webbrowser.open(redirect_url)"
   ]
  },
  {
   "cell_type": "code",
   "execution_count": 7,
   "metadata": {},
   "outputs": [],
   "source": [
    "user_pin = '5982216'"
   ]
  },
  {
   "cell_type": "code",
   "execution_count": 8,
   "metadata": {},
   "outputs": [
    {
     "data": {
      "text/plain": [
       "('1234395995342950401-nc7BfR8LFpF6ppowP2lDr4EHrr7PwL',\n",
       " 'gAVyNV4Nv8WY50il8zu3UDHymTi4E3no6MpHkMGxKXZGc')"
      ]
     },
     "execution_count": 8,
     "metadata": {},
     "output_type": "execute_result"
    }
   ],
   "source": [
    "awth.get_access_token(user_pin)"
   ]
  },
  {
   "cell_type": "code",
   "execution_count": 9,
   "metadata": {},
   "outputs": [],
   "source": [
    "api = tweepy.API(awth)"
   ]
  },
  {
   "cell_type": "code",
   "execution_count": 10,
   "metadata": {},
   "outputs": [],
   "source": [
    "me = api.me()"
   ]
  },
  {
   "cell_type": "code",
   "execution_count": 12,
   "metadata": {},
   "outputs": [
    {
     "data": {
      "text/plain": [
       "'Bond01164976'"
      ]
     },
     "execution_count": 12,
     "metadata": {},
     "output_type": "execute_result"
    }
   ],
   "source": [
    "me.screen_name"
   ]
  },
  {
   "cell_type": "code",
   "execution_count": 13,
   "metadata": {},
   "outputs": [],
   "source": [
    "new_status = api.update_status(\"Hello Word\")"
   ]
  },
  {
   "cell_type": "code",
   "execution_count": 14,
   "metadata": {},
   "outputs": [
    {
     "data": {
      "text/plain": [
       "Status(_api=<tweepy.api.API object at 0x7f8384e5f8>, _json={'created_at': 'Sat May 16 06:18:56 +0000 2020', 'id': 1261541625844523011, 'id_str': '1261541625844523011', 'text': 'Hello Word', 'truncated': False, 'entities': {'hashtags': [], 'symbols': [], 'user_mentions': [], 'urls': []}, 'source': '<a href=\"https://github.com/igor-bond16/Coding_challenge_in_Python\" rel=\"nofollow\">Learn Twitter API igor-bond</a>', 'in_reply_to_status_id': None, 'in_reply_to_status_id_str': None, 'in_reply_to_user_id': None, 'in_reply_to_user_id_str': None, 'in_reply_to_screen_name': None, 'user': {'id': 1234395995342950401, 'id_str': '1234395995342950401', 'name': 'Bond Igor', 'screen_name': 'Bond01164976', 'location': '', 'description': 'Bond Igorでyoutube をやっています。\\n▶https://t.co/XTREpEIkn2\\nLivedoorblogもやっています。⇩', 'url': 'https://t.co/Tw42AOJsIz', 'entities': {'url': {'urls': [{'url': 'https://t.co/Tw42AOJsIz', 'expanded_url': 'http://igorbond.livedoor.blog', 'display_url': 'igorbond.livedoor.blog', 'indices': [0, 23]}]}, 'description': {'urls': [{'url': 'https://t.co/XTREpEIkn2', 'expanded_url': 'https://www.youtube.com/channel/UCDYbu9aViDvkubFcwgbbKDA', 'display_url': 'youtube.com/channel/UCDYbu…', 'indices': [28, 51]}]}}, 'protected': False, 'followers_count': 40, 'friends_count': 9, 'listed_count': 0, 'created_at': 'Mon Mar 02 08:32:08 +0000 2020', 'favourites_count': 55, 'utc_offset': None, 'time_zone': None, 'geo_enabled': True, 'verified': False, 'statuses_count': 66, 'lang': None, 'contributors_enabled': False, 'is_translator': False, 'is_translation_enabled': False, 'profile_background_color': 'F5F8FA', 'profile_background_image_url': None, 'profile_background_image_url_https': None, 'profile_background_tile': False, 'profile_image_url': 'http://pbs.twimg.com/profile_images/1234396175182123008/7yrkErPP_normal.jpg', 'profile_image_url_https': 'https://pbs.twimg.com/profile_images/1234396175182123008/7yrkErPP_normal.jpg', 'profile_link_color': '1DA1F2', 'profile_sidebar_border_color': 'C0DEED', 'profile_sidebar_fill_color': 'DDEEF6', 'profile_text_color': '333333', 'profile_use_background_image': True, 'has_extended_profile': True, 'default_profile': True, 'default_profile_image': False, 'following': False, 'follow_request_sent': False, 'notifications': False, 'translator_type': 'none'}, 'geo': None, 'coordinates': None, 'place': None, 'contributors': None, 'is_quote_status': False, 'retweet_count': 0, 'favorite_count': 0, 'favorited': False, 'retweeted': False, 'lang': 'en'}, created_at=datetime.datetime(2020, 5, 16, 6, 18, 56), id=1261541625844523011, id_str='1261541625844523011', text='Hello Word', truncated=False, entities={'hashtags': [], 'symbols': [], 'user_mentions': [], 'urls': []}, source='Learn Twitter API igor-bond', source_url='https://github.com/igor-bond16/Coding_challenge_in_Python', in_reply_to_status_id=None, in_reply_to_status_id_str=None, in_reply_to_user_id=None, in_reply_to_user_id_str=None, in_reply_to_screen_name=None, author=User(_api=<tweepy.api.API object at 0x7f8384e5f8>, _json={'id': 1234395995342950401, 'id_str': '1234395995342950401', 'name': 'Bond Igor', 'screen_name': 'Bond01164976', 'location': '', 'description': 'Bond Igorでyoutube をやっています。\\n▶https://t.co/XTREpEIkn2\\nLivedoorblogもやっています。⇩', 'url': 'https://t.co/Tw42AOJsIz', 'entities': {'url': {'urls': [{'url': 'https://t.co/Tw42AOJsIz', 'expanded_url': 'http://igorbond.livedoor.blog', 'display_url': 'igorbond.livedoor.blog', 'indices': [0, 23]}]}, 'description': {'urls': [{'url': 'https://t.co/XTREpEIkn2', 'expanded_url': 'https://www.youtube.com/channel/UCDYbu9aViDvkubFcwgbbKDA', 'display_url': 'youtube.com/channel/UCDYbu…', 'indices': [28, 51]}]}}, 'protected': False, 'followers_count': 40, 'friends_count': 9, 'listed_count': 0, 'created_at': 'Mon Mar 02 08:32:08 +0000 2020', 'favourites_count': 55, 'utc_offset': None, 'time_zone': None, 'geo_enabled': True, 'verified': False, 'statuses_count': 66, 'lang': None, 'contributors_enabled': False, 'is_translator': False, 'is_translation_enabled': False, 'profile_background_color': 'F5F8FA', 'profile_background_image_url': None, 'profile_background_image_url_https': None, 'profile_background_tile': False, 'profile_image_url': 'http://pbs.twimg.com/profile_images/1234396175182123008/7yrkErPP_normal.jpg', 'profile_image_url_https': 'https://pbs.twimg.com/profile_images/1234396175182123008/7yrkErPP_normal.jpg', 'profile_link_color': '1DA1F2', 'profile_sidebar_border_color': 'C0DEED', 'profile_sidebar_fill_color': 'DDEEF6', 'profile_text_color': '333333', 'profile_use_background_image': True, 'has_extended_profile': True, 'default_profile': True, 'default_profile_image': False, 'following': False, 'follow_request_sent': False, 'notifications': False, 'translator_type': 'none'}, id=1234395995342950401, id_str='1234395995342950401', name='Bond Igor', screen_name='Bond01164976', location='', description='Bond Igorでyoutube をやっています。\\n▶https://t.co/XTREpEIkn2\\nLivedoorblogもやっています。⇩', url='https://t.co/Tw42AOJsIz', entities={'url': {'urls': [{'url': 'https://t.co/Tw42AOJsIz', 'expanded_url': 'http://igorbond.livedoor.blog', 'display_url': 'igorbond.livedoor.blog', 'indices': [0, 23]}]}, 'description': {'urls': [{'url': 'https://t.co/XTREpEIkn2', 'expanded_url': 'https://www.youtube.com/channel/UCDYbu9aViDvkubFcwgbbKDA', 'display_url': 'youtube.com/channel/UCDYbu…', 'indices': [28, 51]}]}}, protected=False, followers_count=40, friends_count=9, listed_count=0, created_at=datetime.datetime(2020, 3, 2, 8, 32, 8), favourites_count=55, utc_offset=None, time_zone=None, geo_enabled=True, verified=False, statuses_count=66, lang=None, contributors_enabled=False, is_translator=False, is_translation_enabled=False, profile_background_color='F5F8FA', profile_background_image_url=None, profile_background_image_url_https=None, profile_background_tile=False, profile_image_url='http://pbs.twimg.com/profile_images/1234396175182123008/7yrkErPP_normal.jpg', profile_image_url_https='https://pbs.twimg.com/profile_images/1234396175182123008/7yrkErPP_normal.jpg', profile_link_color='1DA1F2', profile_sidebar_border_color='C0DEED', profile_sidebar_fill_color='DDEEF6', profile_text_color='333333', profile_use_background_image=True, has_extended_profile=True, default_profile=True, default_profile_image=False, following=False, follow_request_sent=False, notifications=False, translator_type='none'), user=User(_api=<tweepy.api.API object at 0x7f8384e5f8>, _json={'id': 1234395995342950401, 'id_str': '1234395995342950401', 'name': 'Bond Igor', 'screen_name': 'Bond01164976', 'location': '', 'description': 'Bond Igorでyoutube をやっています。\\n▶https://t.co/XTREpEIkn2\\nLivedoorblogもやっています。⇩', 'url': 'https://t.co/Tw42AOJsIz', 'entities': {'url': {'urls': [{'url': 'https://t.co/Tw42AOJsIz', 'expanded_url': 'http://igorbond.livedoor.blog', 'display_url': 'igorbond.livedoor.blog', 'indices': [0, 23]}]}, 'description': {'urls': [{'url': 'https://t.co/XTREpEIkn2', 'expanded_url': 'https://www.youtube.com/channel/UCDYbu9aViDvkubFcwgbbKDA', 'display_url': 'youtube.com/channel/UCDYbu…', 'indices': [28, 51]}]}}, 'protected': False, 'followers_count': 40, 'friends_count': 9, 'listed_count': 0, 'created_at': 'Mon Mar 02 08:32:08 +0000 2020', 'favourites_count': 55, 'utc_offset': None, 'time_zone': None, 'geo_enabled': True, 'verified': False, 'statuses_count': 66, 'lang': None, 'contributors_enabled': False, 'is_translator': False, 'is_translation_enabled': False, 'profile_background_color': 'F5F8FA', 'profile_background_image_url': None, 'profile_background_image_url_https': None, 'profile_background_tile': False, 'profile_image_url': 'http://pbs.twimg.com/profile_images/1234396175182123008/7yrkErPP_normal.jpg', 'profile_image_url_https': 'https://pbs.twimg.com/profile_images/1234396175182123008/7yrkErPP_normal.jpg', 'profile_link_color': '1DA1F2', 'profile_sidebar_border_color': 'C0DEED', 'profile_sidebar_fill_color': 'DDEEF6', 'profile_text_color': '333333', 'profile_use_background_image': True, 'has_extended_profile': True, 'default_profile': True, 'default_profile_image': False, 'following': False, 'follow_request_sent': False, 'notifications': False, 'translator_type': 'none'}, id=1234395995342950401, id_str='1234395995342950401', name='Bond Igor', screen_name='Bond01164976', location='', description='Bond Igorでyoutube をやっています。\\n▶https://t.co/XTREpEIkn2\\nLivedoorblogもやっています。⇩', url='https://t.co/Tw42AOJsIz', entities={'url': {'urls': [{'url': 'https://t.co/Tw42AOJsIz', 'expanded_url': 'http://igorbond.livedoor.blog', 'display_url': 'igorbond.livedoor.blog', 'indices': [0, 23]}]}, 'description': {'urls': [{'url': 'https://t.co/XTREpEIkn2', 'expanded_url': 'https://www.youtube.com/channel/UCDYbu9aViDvkubFcwgbbKDA', 'display_url': 'youtube.com/channel/UCDYbu…', 'indices': [28, 51]}]}}, protected=False, followers_count=40, friends_count=9, listed_count=0, created_at=datetime.datetime(2020, 3, 2, 8, 32, 8), favourites_count=55, utc_offset=None, time_zone=None, geo_enabled=True, verified=False, statuses_count=66, lang=None, contributors_enabled=False, is_translator=False, is_translation_enabled=False, profile_background_color='F5F8FA', profile_background_image_url=None, profile_background_image_url_https=None, profile_background_tile=False, profile_image_url='http://pbs.twimg.com/profile_images/1234396175182123008/7yrkErPP_normal.jpg', profile_image_url_https='https://pbs.twimg.com/profile_images/1234396175182123008/7yrkErPP_normal.jpg', profile_link_color='1DA1F2', profile_sidebar_border_color='C0DEED', profile_sidebar_fill_color='DDEEF6', profile_text_color='333333', profile_use_background_image=True, has_extended_profile=True, default_profile=True, default_profile_image=False, following=False, follow_request_sent=False, notifications=False, translator_type='none'), geo=None, coordinates=None, place=None, contributors=None, is_quote_status=False, retweet_count=0, favorite_count=0, favorited=False, retweeted=False, lang='en')"
      ]
     },
     "execution_count": 14,
     "metadata": {},
     "output_type": "execute_result"
    }
   ],
   "source": [
    "new_status.destroy()"
   ]
  },
  {
   "cell_type": "code",
   "execution_count": 15,
   "metadata": {},
   "outputs": [],
   "source": [
    "img = api.media_upload(\"icon.jpg\")"
   ]
  },
  {
   "cell_type": "code",
   "execution_count": 16,
   "metadata": {},
   "outputs": [
    {
     "data": {
      "text/plain": [
       "['__class__',\n",
       " '__delattr__',\n",
       " '__dict__',\n",
       " '__dir__',\n",
       " '__doc__',\n",
       " '__eq__',\n",
       " '__format__',\n",
       " '__ge__',\n",
       " '__getattribute__',\n",
       " '__getstate__',\n",
       " '__gt__',\n",
       " '__hash__',\n",
       " '__init__',\n",
       " '__init_subclass__',\n",
       " '__le__',\n",
       " '__lt__',\n",
       " '__module__',\n",
       " '__ne__',\n",
       " '__new__',\n",
       " '__reduce__',\n",
       " '__reduce_ex__',\n",
       " '__repr__',\n",
       " '__setattr__',\n",
       " '__sizeof__',\n",
       " '__str__',\n",
       " '__subclasshook__',\n",
       " '__weakref__',\n",
       " '_api',\n",
       " 'expires_after_secs',\n",
       " 'image',\n",
       " 'media_id',\n",
       " 'media_id_string',\n",
       " 'parse',\n",
       " 'parse_list',\n",
       " 'size']"
      ]
     },
     "execution_count": 16,
     "metadata": {},
     "output_type": "execute_result"
    }
   ],
   "source": [
    "dir(img)"
   ]
  },
  {
   "cell_type": "code",
   "execution_count": null,
   "metadata": {},
   "outputs": [],
   "source": [
    "new_status = api.update_status(\"\")"
   ]
  }
 ],
 "metadata": {
  "kernelspec": {
   "display_name": "Python 3",
   "language": "python",
   "name": "python3"
  },
  "language_info": {
   "codemirror_mode": {
    "name": "ipython",
    "version": 3
   },
   "file_extension": ".py",
   "mimetype": "text/x-python",
   "name": "python",
   "nbconvert_exporter": "python",
   "pygments_lexer": "ipython3",
   "version": "3.6.9"
  }
 },
 "nbformat": 4,
 "nbformat_minor": 2
}
