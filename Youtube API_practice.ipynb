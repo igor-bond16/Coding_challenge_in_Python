{
 "cells": [
  {
   "cell_type": "code",
   "execution_count": 121,
   "metadata": {},
   "outputs": [],
   "source": [
    "import requests\n",
    "from isodate import parse_duration"
   ]
  },
  {
   "cell_type": "code",
   "execution_count": 2,
   "metadata": {},
   "outputs": [],
   "source": [
    "API_KEY =　'Your APIKEY'"
   ]
  },
  {
   "cell_type": "code",
   "execution_count": 4,
   "metadata": {},
   "outputs": [],
   "source": [
    "search_url = 'https://www.googleapis.com/youtube/v3/search'"
   ]
  },
  {
   "cell_type": "code",
   "execution_count": 32,
   "metadata": {},
   "outputs": [],
   "source": [
    "search_params = {\n",
    "    'part':'snippet',\n",
    "    'q':'learn Python',\n",
    "    'key':API_KEY,\n",
    "    'maxResults':10,\n",
    "    'type':'video',\n",
    "}"
   ]
  },
  {
   "cell_type": "code",
   "execution_count": 106,
   "metadata": {},
   "outputs": [],
   "source": [
    "video_ids = []"
   ]
  },
  {
   "cell_type": "code",
   "execution_count": 107,
   "metadata": {},
   "outputs": [],
   "source": [
    "r = requests.get(search_url,search_params)"
   ]
  },
  {
   "cell_type": "code",
   "execution_count": 108,
   "metadata": {},
   "outputs": [],
   "source": [
    "results = r.json()['items']"
   ]
  },
  {
   "cell_type": "code",
   "execution_count": 109,
   "metadata": {},
   "outputs": [
    {
     "name": "stdout",
     "output_type": "stream",
     "text": [
      "https://i.ytimg.com/vi/rfscVS0vtbw/default.jpg\n",
      "https://i.ytimg.com/vi/_uQrJ0TkZlc/default.jpg\n",
      "https://i.ytimg.com/vi/WGJJIrtnfpk/default.jpg\n",
      "https://i.ytimg.com/vi/XGf2GcyHPhc/default.jpg\n",
      "https://i.ytimg.com/vi/I2wURDqiXdM/default.jpg\n",
      "https://i.ytimg.com/vi/4F2m91eKmts/default.jpg\n",
      "https://i.ytimg.com/vi/Z1Yd7upQsXY/default.jpg\n",
      "https://i.ytimg.com/vi/5mJ_Qftw2_0/default.jpg\n",
      "https://i.ytimg.com/vi/H1elmMBnykA/default.jpg\n",
      "https://i.ytimg.com/vi/xsEXpzsLsc0/default.jpg\n"
     ]
    }
   ],
   "source": [
    "for result in results:\n",
    "    print(result['snippet']['thumbnails']['default']['url'])"
   ]
  },
  {
   "cell_type": "code",
   "execution_count": 110,
   "metadata": {},
   "outputs": [],
   "source": [
    "for result in results:\n",
    "    video_ids.append(result['id']['videoId'])"
   ]
  },
  {
   "cell_type": "code",
   "execution_count": 111,
   "metadata": {},
   "outputs": [
    {
     "data": {
      "text/plain": [
       "['rfscVS0vtbw',\n",
       " '_uQrJ0TkZlc',\n",
       " 'WGJJIrtnfpk',\n",
       " 'XGf2GcyHPhc',\n",
       " 'I2wURDqiXdM',\n",
       " '4F2m91eKmts',\n",
       " 'Z1Yd7upQsXY',\n",
       " '5mJ_Qftw2_0',\n",
       " 'H1elmMBnykA',\n",
       " 'xsEXpzsLsc0']"
      ]
     },
     "execution_count": 111,
     "metadata": {},
     "output_type": "execute_result"
    }
   ],
   "source": [
    "video_ids"
   ]
  },
  {
   "cell_type": "code",
   "execution_count": 112,
   "metadata": {},
   "outputs": [],
   "source": [
    "video_url = 'https://www.googleapis.com/youtube/v3/videos'"
   ]
  },
  {
   "cell_type": "code",
   "execution_count": 113,
   "metadata": {},
   "outputs": [],
   "source": [
    "parametor_list = ['snippet','contentDetails']"
   ]
  },
  {
   "cell_type": "code",
   "execution_count": 124,
   "metadata": {},
   "outputs": [],
   "source": [
    "video_params = {\n",
    "    'part':parametor_list,\n",
    "    'key':API_KEY,\n",
    "    'id':','.join(video_ids),\n",
    "    'maxResults':10\n",
    "}"
   ]
  },
  {
   "cell_type": "code",
   "execution_count": 125,
   "metadata": {},
   "outputs": [],
   "source": [
    "r = requests.get(video_url,video_params)"
   ]
  },
  {
   "cell_type": "code",
   "execution_count": 126,
   "metadata": {},
   "outputs": [],
   "source": [
    "results2 = r.json()['items']"
   ]
  },
  {
   "cell_type": "code",
   "execution_count": 129,
   "metadata": {},
   "outputs": [
    {
     "name": "stdout",
     "output_type": "stream",
     "text": [
      "Learn Python - Full Course for Beginners [Tutorial]\n",
      "rfscVS0vtbw\n",
      "266.0\n",
      "https://i.ytimg.com/vi/rfscVS0vtbw/default.jpg\n",
      "Python Tutorial for Beginners [Full Course] Learn Python for Web Development\n",
      "_uQrJ0TkZlc\n",
      "374.0\n",
      "https://i.ytimg.com/vi/_uQrJ0TkZlc/default.jpg\n",
      "Python Full Course - Learn Python in 12 Hours | Python Tutorial For Beginners | Edureka\n",
      "WGJJIrtnfpk\n",
      "716.0\n",
      "https://i.ytimg.com/vi/WGJJIrtnfpk/default.jpg\n",
      "Learn Python by Building Five Games - Full Course\n",
      "XGf2GcyHPhc\n",
      "403.0\n",
      "https://i.ytimg.com/vi/XGf2GcyHPhc/default.jpg\n",
      "Learn PYTHON in 5 MINUTES\n",
      "I2wURDqiXdM\n",
      "6.0\n",
      "https://i.ytimg.com/vi/I2wURDqiXdM/default.jpg\n",
      "Python Tutorial for Beginners - Full Course in 11 Hours [2020]\n",
      "4F2m91eKmts\n",
      "660.0\n",
      "https://i.ytimg.com/vi/4F2m91eKmts/default.jpg\n",
      "Python Tutorial for Absolute Beginners #1 - What Are Variables?\n",
      "Z1Yd7upQsXY\n",
      "24.0\n",
      "https://i.ytimg.com/vi/Z1Yd7upQsXY/default.jpg\n",
      "How to Learn Python Tutorial - Easy & simple! Learn How to Learn Python!\n",
      "5mJ_Qftw2_0\n",
      "10.0\n",
      "https://i.ytimg.com/vi/5mJ_Qftw2_0/default.jpg\n",
      "Python Tutorial 2020\n",
      "H1elmMBnykA\n",
      "111.0\n",
      "https://i.ytimg.com/vi/H1elmMBnykA/default.jpg\n",
      "10 tips for learning PYTHON fast! Master Python in 2020!\n",
      "xsEXpzsLsc0\n",
      "10.0\n",
      "https://i.ytimg.com/vi/xsEXpzsLsc0/default.jpg\n"
     ]
    }
   ],
   "source": [
    "for result2 in results2:\n",
    "    print(result2['snippet']['title'])\n",
    "    print(result2['id'])\n",
    "    print(parse_duration(result2['contentDetails']['duration']).total_seconds()//60)\n",
    "    print(result2['snippet']['thumbnails']['default']['url'])"
   ]
  },
  {
   "cell_type": "code",
   "execution_count": null,
   "metadata": {},
   "outputs": [],
   "source": []
  }
 ],
 "metadata": {
  "kernelspec": {
   "display_name": "Python 3",
   "language": "python",
   "name": "python3"
  },
  "language_info": {
   "codemirror_mode": {
    "name": "ipython",
    "version": 3
   },
   "file_extension": ".py",
   "mimetype": "text/x-python",
   "name": "python",
   "nbconvert_exporter": "python",
   "pygments_lexer": "ipython3",
   "version": "3.6.9"
  }
 },
 "nbformat": 4,
 "nbformat_minor": 2
}
